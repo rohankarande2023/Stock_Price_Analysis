{
 "cells": [
  {
   "cell_type": "markdown",
   "id": "651dd034",
   "metadata": {},
   "source": [
    "## Midterm project: Equity Portfolio Management\n",
    "\n",
    "### Data Preparation\n",
    "\n",
    "Download the historial daily data of the entire 2018 for the 10 stocks \n",
    "\n",
    "```python\n",
    "universe = ['IBM', 'MSFT', 'GOOG', 'AAPL', 'AMZN', 'META', 'NFLX', 'TSLA', 'ORCL', 'SAP']\n",
    "```\n",
    "\n",
    "\n",
    "You should have 10 csv files on your disk now. IBM.csv, MSFT.csv, etc. We call the 10 stocks \"universe\" which is the entire stock market you can trade.\n",
    "\n",
    "\n",
    "\n",
    "### Retrieve the \"Close\" and \"Adj Close\" values for each stock\n",
    "\n",
    "You will create a dataframe where there are 20 columns for the 10 stocks, each row is the \"Close\" and \"Adj Close\" prices for the 10 stocks on each day, in the order of the business days in 2018. Assume all buy/sell on the \"Close\" prices and there is no transaction cost.\n",
    "\n",
    "### You start to manage 5 million dollars fund on Jan 02, 2018\n",
    "\n",
    "You have a strategy to manage the fund.\n",
    "\n",
    "1. On Jan 02 2018, you split the $\\$5m$ into 5 $\\$1m$, and use them to buy 5 stocks from the 10 stocks. For example, IBM close price was $\\$154.25$. With $\\$1m$, you can buy max 6482 shares with cost $\\$999848.5$ with $\\$151.5$‬ cash left. You decided to spend $\\$1m$ on each of `['IBM', 'MSFT', 'GOOG', 'AAPL', 'AMZN']` respectively and keep the rest cash into a zero-interest cash account. On Jan 02 2018, your mark to market value (MTM) is $\\$5m$ if combining all stocks value and cash. Your holdings of stocks and cach account is your portfolio.\n",
    "\n",
    "\\begin{equation*}\n",
    "\\ MTM^t =  cash^t + \\sum_{k=1}^5 Shares_k^t \\times ClosePrice_k^t \\\n",
    "\\end{equation*}\n",
    "\n",
    "\n",
    "2. Your trading strategy is \"5 days rebalancing of buying low\". Here is how it works. You keep your portfolio unchanged until 5 days later on Jan 09 2018. Now you want to re-check the market and adjust your portfolio. You will compute the \"Adj Close\" price changes from Jan 02 to Jan 09, and find the 5 stocks whose \"Adj Close\" prices dropped the most in terms of percentage. You sell all current holdings on Jan 09 \"Close\" prices to convert your portfolio to all cash. Then immediately split your cash, including your cash account, to 5 equal parts to buy the 5 stocks that dropped the most from Jan 02 to Jan 09 on 'Adj Close' prices. You always buy the max shares of stock on the \"Close\" price and keep the rest cash in cash account. Now the portfolio should be different from 5 days ago. This operation is called \"rebalancing\".\n",
    "\n",
    "    Keep in mind, the MTM will change every day, even when your portfolio holdings don't change, because the stock prices change.\n",
    "\n",
    "\n",
    "3. Corporations generally issue stock dividends on some days. The total dividend you get on such a day is the stock dividend  times your shares if you have shares of this stock on the dividend day. If you buy shares on the dividend day, these bought shares are not qualified to get dividend. If you sell shares on the dividend day, the sold shares are qualified to get dividend. For example, on 2/8/2018, IBM issued \\$1.5 dividend per share. In your cash account, you will automatically get\n",
    "\n",
    "\\begin{equation*}\n",
    "\\$1.5 \\times \\left(your\\ IBM\\ shares\\ on\\ 2/8/2018\\right)\n",
    "\\end{equation*} \n",
    "\n",
    "\n",
    "\n",
    "4. 5 business days later on Jan 17 (Jan 15 was a holiday), you re-check the market and adjust your portfolio again. You will have a new portfolio on Jan 17.\n",
    "\n",
    "\n",
    "5. If you run this strategy every 5 days all the way to Dec 31 2018, you will have a daily MTM. You expect the MTM on Dec 31 2018 should be higher than \\$5m because you always buy the stocks that dropped the most, i.e., you always buy low.\n",
    "\n",
    "\n",
    "6. Another strategy is \"5 days rebalancing of buying high\". You always buy the 5 stocks whose \"Adj Close\" prices surge the most in terms of percentage because you believe the trend will continue. Run the new strategy and see how the MTM will change.\n",
    "\n",
    "\n",
    "7. You will create a \"high tech index\" which is simply the daily average of the 10 stocks \"Close\" prices. Compare your MTM series with the \"high tech index\" and plot their curves. To plot the two curves together, you may want to convert the series to daily percentage change with regard to Jan 02 2018.\n",
    "\n",
    "\n",
    "8. Download the USD/JPY 2018 historical data at https://finance.yahoo.com/quote/JPY%3DX/history?period1=1514764800&period2=1546300800&interval=1d&filter=history&frequency=1d&includeAdjustedClose=true then use the \"Close\" column as the rate to convert your MTM series from USD to JPY. Plot the two MTM curves. You will need "
   ]
  },
  {
   "cell_type": "markdown",
   "id": "ea84abe2",
   "metadata": {},
   "source": [
    "# List of functions and variable names\n",
    "\n",
    "## Functions\n",
    "- strategy_top_5\n",
    "    - **input:** day_number\n",
    "    - **returns** stocks_to_buy[{stock_name : closing_value}]\n",
    "- buy_stocks\n",
    "    - **input:** total_cash, stocks_to_buy  \n",
    "    - **returns** no_of_stocks[{stock name: no_of_stocks_bought}] and remaning_cash i.e remaining cash\n",
    "- div \n",
    "    - **input:** day_number, no_of_stocks\n",
    "    - **returns** div_cash\n",
    "- mtm\n",
    "    - **input:** total_cash, remaning_cash, no_of_stocks\n",
    "    - **returns** mtm_value[] i.e a list everyday MTM values\n",
    "- totalCash_afterSell\n",
    "    - **input:** no_of_stocks[{}], day_number, remaning_cash \n",
    "    - **returns** total_cash\n",
    "- select_strategy\n",
    "    - **input:** strategy (dtype- string)\n",
    "    - **returns** stocks_to_buy[{stock_name : closing_value}]\n",
    "- play --> main function\n",
    "- init --> define global variables\n",
    "\n",
    "## Variables\n",
    "- all_stocks --> **df** of all 10 stocks\n",
    "- total_cash --> **float** containig total cash\n",
    "- stocks_to_buy --> **dict** stocks_to_buy[{stock_name : closing_value}]\n",
    "- day_number --> **int** ranges from 0-250\n",
    "- no_of_stocks --> **dict** no_of_stocks[{stock name: no_of_stocks_bought}]\n",
    "- div_cash --> **float** is the value of total dividend\n",
    "- remaning_cash --> **float** is the value of remaining cash after buying\n",
    "- mtm_value --> **list** contains daily mtm values\n",
    "- period --> **int** is the no of days you keep the stocks\n",
    "- days_batch --> **list** contains list of days when stocks are sold as per the selected strategy\n"
   ]
  },
  {
   "cell_type": "code",
   "execution_count": 723,
   "id": "1f6f98a5",
   "metadata": {},
   "outputs": [],
   "source": [
    "import pandas as pd\n",
    "import numpy as np"
   ]
  },
  {
   "cell_type": "code",
   "execution_count": 724,
   "id": "bbad6db7",
   "metadata": {},
   "outputs": [],
   "source": [
    "# Importing data for 10 stocks for year 2018\n",
    "\n",
    "sap=pd.read_csv(r\"Datasets\\SAP.csv\")\n",
    "orcl=pd.read_csv(r\"Datasets\\ORCL.csv\")\n",
    "nflx=pd.read_csv(r\"Datasets\\NFLX.csv\")\n",
    "tsla=pd.read_csv(r\"Datasets\\TSLA.csv\")\n",
    "meta=pd.read_csv(r\"Datasets\\META.csv\")\n",
    "msft=pd.read_csv(r\"Datasets\\MSFT.csv\")\n",
    "aapl=pd.read_csv(r\"Datasets\\AAPL.csv\")\n",
    "amzn=pd.read_csv(r\"Datasets\\AMZN.csv\")\n",
    "goog=pd.read_csv(r\"Datasets\\GOOG.csv\")\n",
    "ibm=pd.read_csv(r\"Datasets\\IBM.csv\")"
   ]
  },
  {
   "cell_type": "code",
   "execution_count": 725,
   "id": "d9a2b70c",
   "metadata": {},
   "outputs": [],
   "source": [
    "# Creating an empty dataset with 20 columns (Close and Adj Close for every company)\n",
    "all_stocks=pd.DataFrame(columns=['ibm_Close', 'ibm_AdjClose', 'msft_Close','msft_AdjClose', 'goog_Close','goog_AdjClose', 'aapl_Close','aapl_AdjClose', 'amzn_Close', 'amzn_AdjClose', 'meta_Close','meta_AdjClose', 'nflx_Close', 'nflx_AdjClose', 'tsla_Close','tsla_AdjClose', 'orcl_Close','orcl_AdjClose', 'sap_Close','sap_AdjClose'])"
   ]
  },
  {
   "cell_type": "code",
   "execution_count": 726,
   "id": "a6140ea8",
   "metadata": {},
   "outputs": [],
   "source": [
    "stock_list=['ibm', 'msft', 'goog', 'aapl', 'amzn', 'meta', 'nflx', 'tsla', 'orcl', 'sap']"
   ]
  },
  {
   "cell_type": "code",
   "execution_count": 727,
   "id": "a974eb1b",
   "metadata": {},
   "outputs": [
    {
     "data": {
      "text/html": [
       "<div>\n",
       "<style scoped>\n",
       "    .dataframe tbody tr th:only-of-type {\n",
       "        vertical-align: middle;\n",
       "    }\n",
       "\n",
       "    .dataframe tbody tr th {\n",
       "        vertical-align: top;\n",
       "    }\n",
       "\n",
       "    .dataframe thead th {\n",
       "        text-align: right;\n",
       "    }\n",
       "</style>\n",
       "<table border=\"1\" class=\"dataframe\">\n",
       "  <thead>\n",
       "    <tr style=\"text-align: right;\">\n",
       "      <th></th>\n",
       "      <th>ibm_Close</th>\n",
       "      <th>ibm_AdjClose</th>\n",
       "      <th>msft_Close</th>\n",
       "      <th>msft_AdjClose</th>\n",
       "      <th>goog_Close</th>\n",
       "      <th>goog_AdjClose</th>\n",
       "      <th>aapl_Close</th>\n",
       "      <th>aapl_AdjClose</th>\n",
       "      <th>amzn_Close</th>\n",
       "      <th>amzn_AdjClose</th>\n",
       "      <th>meta_Close</th>\n",
       "      <th>meta_AdjClose</th>\n",
       "      <th>nflx_Close</th>\n",
       "      <th>nflx_AdjClose</th>\n",
       "      <th>tsla_Close</th>\n",
       "      <th>tsla_AdjClose</th>\n",
       "      <th>orcl_Close</th>\n",
       "      <th>orcl_AdjClose</th>\n",
       "      <th>sap_Close</th>\n",
       "      <th>sap_AdjClose</th>\n",
       "    </tr>\n",
       "  </thead>\n",
       "  <tbody>\n",
       "    <tr>\n",
       "      <th>0</th>\n",
       "      <td>147.466537</td>\n",
       "      <td>109.547668</td>\n",
       "      <td>85.949997</td>\n",
       "      <td>80.228996</td>\n",
       "      <td>53.250000</td>\n",
       "      <td>53.250000</td>\n",
       "      <td>43.064999</td>\n",
       "      <td>40.722874</td>\n",
       "      <td>59.450500</td>\n",
       "      <td>59.450500</td>\n",
       "      <td>181.419998</td>\n",
       "      <td>181.419998</td>\n",
       "      <td>201.070007</td>\n",
       "      <td>201.070007</td>\n",
       "      <td>21.368668</td>\n",
       "      <td>21.368668</td>\n",
       "      <td>46.630001</td>\n",
       "      <td>42.119247</td>\n",
       "      <td>112.389999</td>\n",
       "      <td>101.210289</td>\n",
       "    </tr>\n",
       "    <tr>\n",
       "      <th>1</th>\n",
       "      <td>151.520081</td>\n",
       "      <td>112.558945</td>\n",
       "      <td>86.349998</td>\n",
       "      <td>80.602386</td>\n",
       "      <td>54.124001</td>\n",
       "      <td>54.124001</td>\n",
       "      <td>43.057499</td>\n",
       "      <td>40.715782</td>\n",
       "      <td>60.209999</td>\n",
       "      <td>60.209999</td>\n",
       "      <td>184.669998</td>\n",
       "      <td>184.669998</td>\n",
       "      <td>205.050003</td>\n",
       "      <td>205.050003</td>\n",
       "      <td>21.150000</td>\n",
       "      <td>21.150000</td>\n",
       "      <td>47.709999</td>\n",
       "      <td>43.094765</td>\n",
       "      <td>113.309998</td>\n",
       "      <td>102.038780</td>\n",
       "    </tr>\n",
       "    <tr>\n",
       "      <th>2</th>\n",
       "      <td>154.588913</td>\n",
       "      <td>114.838638</td>\n",
       "      <td>87.110001</td>\n",
       "      <td>81.311783</td>\n",
       "      <td>54.320000</td>\n",
       "      <td>54.320000</td>\n",
       "      <td>43.257500</td>\n",
       "      <td>40.904907</td>\n",
       "      <td>60.479500</td>\n",
       "      <td>60.479500</td>\n",
       "      <td>184.330002</td>\n",
       "      <td>184.330002</td>\n",
       "      <td>205.630005</td>\n",
       "      <td>205.630005</td>\n",
       "      <td>20.974667</td>\n",
       "      <td>20.974667</td>\n",
       "      <td>48.180000</td>\n",
       "      <td>43.519291</td>\n",
       "      <td>115.050003</td>\n",
       "      <td>103.605690</td>\n",
       "    </tr>\n",
       "    <tr>\n",
       "      <th>3</th>\n",
       "      <td>155.344162</td>\n",
       "      <td>115.399704</td>\n",
       "      <td>88.190002</td>\n",
       "      <td>82.319923</td>\n",
       "      <td>55.111500</td>\n",
       "      <td>55.111500</td>\n",
       "      <td>43.750000</td>\n",
       "      <td>41.370621</td>\n",
       "      <td>61.457001</td>\n",
       "      <td>61.457001</td>\n",
       "      <td>186.850006</td>\n",
       "      <td>186.850006</td>\n",
       "      <td>209.990005</td>\n",
       "      <td>209.990005</td>\n",
       "      <td>21.105333</td>\n",
       "      <td>21.105333</td>\n",
       "      <td>48.470001</td>\n",
       "      <td>43.781242</td>\n",
       "      <td>116.330002</td>\n",
       "      <td>104.758362</td>\n",
       "    </tr>\n",
       "    <tr>\n",
       "      <th>4</th>\n",
       "      <td>156.281067</td>\n",
       "      <td>116.095703</td>\n",
       "      <td>88.279999</td>\n",
       "      <td>82.403923</td>\n",
       "      <td>55.347000</td>\n",
       "      <td>55.347000</td>\n",
       "      <td>43.587502</td>\n",
       "      <td>41.216965</td>\n",
       "      <td>62.343498</td>\n",
       "      <td>62.343498</td>\n",
       "      <td>188.279999</td>\n",
       "      <td>188.279999</td>\n",
       "      <td>212.050003</td>\n",
       "      <td>212.050003</td>\n",
       "      <td>22.427334</td>\n",
       "      <td>22.427334</td>\n",
       "      <td>48.980000</td>\n",
       "      <td>44.241909</td>\n",
       "      <td>114.800003</td>\n",
       "      <td>103.380554</td>\n",
       "    </tr>\n",
       "  </tbody>\n",
       "</table>\n",
       "</div>"
      ],
      "text/plain": [
       "    ibm_Close  ibm_AdjClose  msft_Close  msft_AdjClose  goog_Close  \\\n",
       "0  147.466537    109.547668   85.949997      80.228996   53.250000   \n",
       "1  151.520081    112.558945   86.349998      80.602386   54.124001   \n",
       "2  154.588913    114.838638   87.110001      81.311783   54.320000   \n",
       "3  155.344162    115.399704   88.190002      82.319923   55.111500   \n",
       "4  156.281067    116.095703   88.279999      82.403923   55.347000   \n",
       "\n",
       "   goog_AdjClose  aapl_Close  aapl_AdjClose  amzn_Close  amzn_AdjClose  \\\n",
       "0      53.250000   43.064999      40.722874   59.450500      59.450500   \n",
       "1      54.124001   43.057499      40.715782   60.209999      60.209999   \n",
       "2      54.320000   43.257500      40.904907   60.479500      60.479500   \n",
       "3      55.111500   43.750000      41.370621   61.457001      61.457001   \n",
       "4      55.347000   43.587502      41.216965   62.343498      62.343498   \n",
       "\n",
       "   meta_Close  meta_AdjClose  nflx_Close  nflx_AdjClose  tsla_Close  \\\n",
       "0  181.419998     181.419998  201.070007     201.070007   21.368668   \n",
       "1  184.669998     184.669998  205.050003     205.050003   21.150000   \n",
       "2  184.330002     184.330002  205.630005     205.630005   20.974667   \n",
       "3  186.850006     186.850006  209.990005     209.990005   21.105333   \n",
       "4  188.279999     188.279999  212.050003     212.050003   22.427334   \n",
       "\n",
       "   tsla_AdjClose  orcl_Close  orcl_AdjClose   sap_Close  sap_AdjClose  \n",
       "0      21.368668   46.630001      42.119247  112.389999    101.210289  \n",
       "1      21.150000   47.709999      43.094765  113.309998    102.038780  \n",
       "2      20.974667   48.180000      43.519291  115.050003    103.605690  \n",
       "3      21.105333   48.470001      43.781242  116.330002    104.758362  \n",
       "4      22.427334   48.980000      44.241909  114.800003    103.380554  "
      ]
     },
     "execution_count": 727,
     "metadata": {},
     "output_type": "execute_result"
    }
   ],
   "source": [
    "# Populating all_stocks dataset with Close and Adj Close values from 10 companies\n",
    "all_stocks[['ibm_Close', 'ibm_AdjClose']]=ibm[['Close','Adj Close']] \n",
    "all_stocks[['msft_Close', 'msft_AdjClose']]=msft[['Close','Adj Close']] \n",
    "all_stocks[['goog_Close', 'goog_AdjClose']]=goog[['Close','Adj Close']] \n",
    "all_stocks[['aapl_Close', 'aapl_AdjClose']]=aapl[['Close','Adj Close']] \n",
    "all_stocks[['amzn_Close', 'amzn_AdjClose']]=amzn[['Close','Adj Close']] \n",
    "all_stocks[['meta_Close', 'meta_AdjClose']]=meta[['Close','Adj Close']] \n",
    "all_stocks[['nflx_Close', 'nflx_AdjClose']]=nflx[['Close','Adj Close']] \n",
    "all_stocks[['tsla_Close', 'tsla_AdjClose']]=tsla[['Close','Adj Close']] \n",
    "all_stocks[['orcl_Close', 'orcl_AdjClose']]=orcl[['Close','Adj Close']] \n",
    "all_stocks[['sap_Close', 'sap_AdjClose']]=sap[['Close','Adj Close']] \n",
    "\n",
    "all_stocks.head()"
   ]
  },
  {
   "cell_type": "markdown",
   "id": "7b2854ea",
   "metadata": {},
   "source": [
    "### Finding the Top 5 Stocks every 5th Day"
   ]
  },
  {
   "cell_type": "code",
   "execution_count": 728,
   "id": "02056be8",
   "metadata": {},
   "outputs": [
    {
     "name": "stdout",
     "output_type": "stream",
     "text": [
      "Enter after how many days do you wish to sell the stocks. Enter number between 1 & 249:5\n"
     ]
    },
    {
     "data": {
      "text/plain": [
       "array([  0,   4,   9,  14,  19,  24,  29,  34,  39,  44,  49,  54,  59,\n",
       "        64,  69,  74,  79,  84,  89,  94,  99, 104, 109, 114, 119, 124,\n",
       "       129, 134, 139, 144, 149, 154, 159, 164, 169, 174, 179, 184, 189,\n",
       "       194, 199, 204, 209, 214, 219, 224, 229, 234, 239, 244, 249])"
      ]
     },
     "execution_count": 728,
     "metadata": {},
     "output_type": "execute_result"
    }
   ],
   "source": [
    "# Creating a list of days - days_batch, when stocks are sold as per the strategy\n",
    "\n",
    "period=int(input(\"Enter after how many days do you wish to sell the stocks. Enter number between 1 & 249:\" ))\n",
    "days_batch=np.arange(0,len(all_stocks)+1,period)\n",
    "days_batch=days_batch-1\n",
    "days_batch[0]=days_batch[0]+1\n",
    "days_batch"
   ]
  },
  {
   "cell_type": "code",
   "execution_count": 729,
   "id": "da61a179",
   "metadata": {},
   "outputs": [
    {
     "name": "stdout",
     "output_type": "stream",
     "text": [
      "['ibm_Close', 'msft_Close', 'goog_Close', 'aapl_Close', 'amzn_Close', 'meta_Close', 'nflx_Close', 'tsla_Close', 'orcl_Close', 'sap_Close']\n",
      "['ibm_AdjClose', 'msft_AdjClose', 'goog_AdjClose', 'aapl_AdjClose', 'amzn_AdjClose', 'meta_AdjClose', 'nflx_AdjClose', 'tsla_AdjClose', 'orcl_AdjClose', 'sap_AdjClose']\n"
     ]
    }
   ],
   "source": [
    "# Creating two Lists with Close & AdjClose Column Names \n",
    "import re\n",
    "Close_columns=[]\n",
    "AdjClose_columns=[]\n",
    "for i in all_stocks.columns:\n",
    "    if 'Adj' not in i:\n",
    "        Close_columns.append(i)\n",
    "    else:\n",
    "        AdjClose_columns.append(i)\n",
    "        \n",
    "print(Close_columns)\n",
    "print(AdjClose_columns)"
   ]
  },
  {
   "cell_type": "code",
   "execution_count": 730,
   "id": "5ec02109",
   "metadata": {},
   "outputs": [],
   "source": [
    "# Create a function to calculate the top 5 stocks at the end of a given day.\n",
    "# The function will retrun the Stock name and the corresponding Closing Value.\n",
    "\n",
    "def strategy_top_5(day_number):\n",
    "    top_5=all_stocks.loc[day_number,Close_columns].sort_values(ascending=False)[:5]\n",
    "    stocks_to_buy=top_5.to_dict()\n",
    "    return stocks_to_buy"
   ]
  },
  {
   "cell_type": "code",
   "execution_count": 731,
   "id": "c6f72335",
   "metadata": {},
   "outputs": [
    {
     "name": "stdout",
     "output_type": "stream",
     "text": [
      "Closing Value:\n",
      "{'nflx_Close': 201.070007, 'meta_Close': 181.419998, 'ibm_Close': 147.466537, 'sap_Close': 112.389999, 'msft_Close': 85.949997}\n",
      "<class 'dict'>\n"
     ]
    }
   ],
   "source": [
    "CloseValue=strategy_top_5(days_batch[0])\n",
    "print(f\"Closing Value:\\n{CloseValue}\")\n",
    "print(type(CloseValue))\n"
   ]
  },
  {
   "cell_type": "code",
   "execution_count": 732,
   "id": "7bf998af",
   "metadata": {},
   "outputs": [],
   "source": [
    "# for i,j in zip(CloseValue.index,CloseValue.values):\n",
    "#     print(i,j)\n",
    "#CloseValue.index[0], CloseValue.values[0]"
   ]
  },
  {
   "cell_type": "code",
   "execution_count": 733,
   "id": "6ae99534",
   "metadata": {},
   "outputs": [],
   "source": [
    "# Create a function to calculate the Number of Stocks to be purchased\n",
    "# Calculate the remaning cash after purchasing stocks \n",
    "\n",
    "def buy_stocks(stocks_to_buy,total_cash):\n",
    "    # Divide total_cash into 5 equal parts\n",
    "    no_of_stocks={}\n",
    "    cash_bucket_per_stock=total_cash/5\n",
    "    remaning_cash=0\n",
    "    for i,j in stocks_to_buy.items():\n",
    "        no_of_stocks[i]=round(cash_bucket_per_stock//j)\n",
    "        remaning_cash=remaning_cash+(cash_bucket_per_stock%j)\n",
    "    return no_of_stocks,remaning_cash\n"
   ]
  },
  {
   "cell_type": "code",
   "execution_count": 734,
   "id": "b36088f6",
   "metadata": {},
   "outputs": [],
   "source": [
    "# Create a function to calculate the total_cash after selling the stocks on a given day\n",
    "\n",
    "def totalCash_afterSell(no_of_stocks,day_number,remaning_cash):\n",
    "    for share,num_of_shares in no_of_stocks.items():\n",
    "        remaning_cash=remaning_cash+all_stocks[share][day_number]*num_of_shares\n",
    "    total_cash=remaning_cash\n",
    "    return total_cash\n",
    "\n",
    "    "
   ]
  },
  {
   "cell_type": "code",
   "execution_count": 735,
   "id": "f820b62b",
   "metadata": {},
   "outputs": [
    {
     "data": {
      "text/plain": [
       "'\\nfor day_number in days_batch:\\n    # Get the top 5 stocks with the closing price on a given day\\n    stocks_to_buy=strategy_top_5(day_number)\\n    \\n    # Calulate the number of stocks to buy for each stock & remaning cash\\n    if day_number==0:\\n        total_cash=5000000\\n        no_of_stocks,remaning_cash=buy_stocks(stocks_to_buy,total_cash)\\n    elif day_number<250:\\n        total_cash=totalCash_afterSell(no_of_stocks,day_number,remaning_cash)\\n        no_of_stocks,remaning_cash=buy_stocks(stocks_to_buy,total_cash)\\n    else:\\n        total_cash=totalCash_afterSell(no_of_stocks,day_number,remaning_cash)\\n    \\nprint(f\"Total Cash generated after 10 days is: {total_cash}\")\\n        \\n'"
      ]
     },
     "execution_count": 735,
     "metadata": {},
     "output_type": "execute_result"
    }
   ],
   "source": [
    "#for day in days_batch:\n",
    "\"\"\"\n",
    "for day_number in days_batch:\n",
    "    # Get the top 5 stocks with the closing price on a given day\n",
    "    stocks_to_buy=strategy_top_5(day_number)\n",
    "    \n",
    "    # Calulate the number of stocks to buy for each stock & remaning cash\n",
    "    if day_number==0:\n",
    "        total_cash=5000000\n",
    "        no_of_stocks,remaning_cash=buy_stocks(stocks_to_buy,total_cash)\n",
    "    elif day_number<250:\n",
    "        total_cash=totalCash_afterSell(no_of_stocks,day_number,remaning_cash)\n",
    "        no_of_stocks,remaning_cash=buy_stocks(stocks_to_buy,total_cash)\n",
    "    else:\n",
    "        total_cash=totalCash_afterSell(no_of_stocks,day_number,remaning_cash)\n",
    "    \n",
    "print(f\"Total Cash generated after 10 days is: {total_cash}\")\n",
    "        \n",
    "\"\"\""
   ]
  },
  {
   "cell_type": "code",
   "execution_count": 736,
   "id": "f936d7c1",
   "metadata": {},
   "outputs": [],
   "source": [
    "# Create a function to determine the stocks which had the maximum percentage drop\n",
    "\n",
    "def max_StockDrop(past_day,current_day):\n",
    "    \"\"\" This function takes the last batch day and current batch day as input and \n",
    "        calculates the max % drop in shareprice between the two days\"\"\"\n",
    "    \n",
    "    # Calculate % drop in share prices previous batch day and current day\n",
    "    AdjClose_percent_Diff={}\n",
    "    for i in AdjClose_columns:\n",
    "        AdjClose_percent_Diff[i]=[(all_stocks[i][past_day]-all_stocks[i][current_day])/((all_stocks[i][past_day]+all_stocks[i][current_day])/2),all_stocks[i][current_day]]\n",
    "    \n",
    "    # Sort the shares with highest % drop in share prices\n",
    "    max_5_drops=sorted(AdjClose_percent_Diff.items(), key=lambda x:x[1])[:5]\n",
    "\n",
    "    return max_5_drops \n",
    "\n"
   ]
  },
  {
   "cell_type": "code",
   "execution_count": 737,
   "id": "130c0776",
   "metadata": {},
   "outputs": [
    {
     "name": "stdout",
     "output_type": "stream",
     "text": [
      "[('ibm_AdjClose', [-0.058038797869227, 116.095703]), ('nflx_AdjClose', [-0.053156447202835806, 212.050003]), ('orcl_AdjClose', [-0.04915779496976623, 44.241909]), ('tsla_AdjClose', [-0.0483453261327369, 22.427334]), ('amzn_AdjClose', [-0.04750641324706328, 62.343498])]\n"
     ]
    }
   ],
   "source": [
    "print(max_StockDrop(0,4))\n",
    "max_5_drops=max_StockDrop(0,4)"
   ]
  },
  {
   "cell_type": "code",
   "execution_count": 738,
   "id": "065d7e2e",
   "metadata": {},
   "outputs": [],
   "source": [
    "# Create a function to determine the Stocks which need to be purchased and their closing value\n",
    "\n",
    "def stocks_toPurchase(max_5_drops,current_day):\n",
    "    \"\"\" This function returns the stocks which need to be purchased\n",
    "    and their closing value\"\"\"\n",
    "    \n",
    "    # Extracting the Column name and Closing price of the stock to be purchased\n",
    "    adj_5=[]\n",
    "    for i in range(len(max_5_drops)):\n",
    "        adj_5.append(max_5_drops[i][0])\n",
    "        adj_5\n",
    "    x=[]\n",
    "    for i in range(5):\n",
    "        x.append(adj_5[i][:-8])\n",
    "        \n",
    "    stocks_to_purchase={}\n",
    "    for i in Close_columns:\n",
    "        if i[:-5] in x:\n",
    "            #print(i)\n",
    "            stocks_to_purchase[i]=all_stocks[i][current_day]\n",
    "        #print(i, all_stocks[i][4])\n",
    "    return stocks_to_purchase"
   ]
  },
  {
   "cell_type": "code",
   "execution_count": 739,
   "id": "373a556b",
   "metadata": {},
   "outputs": [
    {
     "name": "stdout",
     "output_type": "stream",
     "text": [
      "{'ibm_Close': 156.281067, 'amzn_Close': 62.343498, 'nflx_Close': 212.050003, 'tsla_Close': 22.427334, 'orcl_Close': 48.98}\n"
     ]
    }
   ],
   "source": [
    "print(stocks_toPurchase(max_5_drops,4))"
   ]
  },
  {
   "cell_type": "code",
   "execution_count": 740,
   "id": "d3949504",
   "metadata": {},
   "outputs": [],
   "source": [
    "def select_strategy(strategy,day_number):\n",
    "    if strategy=='strategy1':\n",
    "        # This strategy selects the top 5 stocks with highest closing price on the given day\n",
    "        return strategy_top_5(day_number)\n",
    "        \n",
    "    if strategy=='strategy2':\n",
    "        # This strategy selects 5 shares who had the highest percentage drop in Adj_Close value for a given period of days\n",
    "        max_5_drops=max_StockDrop(day_number-(period-1),day_number)\n",
    "        stocks_to_buy=stocks_toPurchase(max_5_drops,day_number)\n",
    "        return stocks_to_buy\n",
    "    if strategy=='strategy3':\n",
    "        pass\n",
    "        \n",
    "        \n",
    "    "
   ]
  },
  {
   "cell_type": "code",
   "execution_count": 741,
   "id": "9db8a429",
   "metadata": {},
   "outputs": [],
   "source": [
    "#def check_Dividend(number_of_shares,)"
   ]
  },
  {
   "cell_type": "code",
   "execution_count": 742,
   "id": "1cd886ef",
   "metadata": {},
   "outputs": [],
   "source": [
    "#def balance_cash(number_of_shares,day,remaning_cash):\n",
    "    # Check if Dividend is offered to existing stocks during the given days\n",
    "    # If Yes, additional dividend cash to Remaning_cash bucket\n",
    "    # Return the updated remaning_cash\n",
    "    \n",
    "    "
   ]
  },
  {
   "cell_type": "code",
   "execution_count": 743,
   "id": "e69b0b70",
   "metadata": {},
   "outputs": [
    {
     "name": "stdout",
     "output_type": "stream",
     "text": [
      "Enter on of the following strategies - strategy1 , strategy2, or strategy3: strategy1\n",
      "Total Cash generated on last day of 2018 with strategy1 is: 4759918.816397997\n"
     ]
    }
   ],
   "source": [
    "strategy=input(\"Enter on of the following strategies - strategy1 , strategy2, or strategy3: \" )\n",
    "#for day in days_batch:\n",
    "for day_number in days_batch:\n",
    "    # Get the top 5 stocks with the closing price on a given day\n",
    "    stocks_to_buy=strategy_top_5(day_number)\n",
    "    \n",
    "    # Calulate the number of stocks to buy for each stock & remaning cash\n",
    "    if day_number==0:\n",
    "        total_cash=5000000\n",
    "        no_of_stocks,remaning_cash=buy_stocks(stocks_to_buy,total_cash)\n",
    "    else:\n",
    "        total_cash=totalCash_afterSell(no_of_stocks,day_number,remaning_cash)\n",
    "        stocks_to_buy=select_strategy(strategy,day_number)\n",
    "        no_of_stocks,remaning_cash=buy_stocks(stocks_to_buy,total_cash)\n",
    "    \n",
    "total_cash=totalCash_afterSell(no_of_stocks,249,remaning_cash)  \n",
    "print(f\"Total Cash generated on last day of 2018 with {strategy} is: {total_cash}\")"
   ]
  },
  {
   "cell_type": "code",
   "execution_count": null,
   "id": "87241610",
   "metadata": {},
   "outputs": [],
   "source": []
  }
 ],
 "metadata": {
  "kernelspec": {
   "display_name": "Python 3 (ipykernel)",
   "language": "python",
   "name": "python3"
  },
  "language_info": {
   "codemirror_mode": {
    "name": "ipython",
    "version": 3
   },
   "file_extension": ".py",
   "mimetype": "text/x-python",
   "name": "python",
   "nbconvert_exporter": "python",
   "pygments_lexer": "ipython3",
   "version": "3.11.5"
  }
 },
 "nbformat": 4,
 "nbformat_minor": 5
}
